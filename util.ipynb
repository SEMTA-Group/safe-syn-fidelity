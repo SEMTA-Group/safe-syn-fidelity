{
 "cells": [
  {
   "cell_type": "code",
   "execution_count": 2,
   "id": "e6c78836",
   "metadata": {},
   "outputs": [],
   "source": [
    "import os\n",
    "\n",
    "def list_filenames_without_extensions(folder_path):\n",
    "    \"\"\" List the filenames in the given folder path without their extensions. \"\"\"\n",
    "    try:\n",
    "        # List all files in the directory without extensions\n",
    "        filenames = [os.path.splitext(f)[0] for f in os.listdir(folder_path) if os.path.isfile(os.path.join(folder_path, f))]\n",
    "        return filenames\n",
    "    except FileNotFoundError:\n",
    "        return f\"No folder found at: {folder_path}\"\n",
    "    except Exception as e:\n",
    "        return f\"An error occurred: {e}\"\n",
    "\n",
    "# Example usage\n",
    "folder_path = \"data/KITTI_Syn_Carla\"  # Replace with the actual folder path\n",
    "file_list = list_filenames_without_extensions(folder_path)\n",
    "\n"
   ]
  },
  {
   "cell_type": "code",
   "execution_count": 3,
   "id": "7deb1c00",
   "metadata": {},
   "outputs": [
    {
     "name": "stdout",
     "output_type": "stream",
     "text": [
      "['000008', '000009', '000015', '000016', '000019', '000034', '000035', '000036', '000037', '000038', '000043', '000046', '000047', '000049', '000050', '000052', '000053', '000055', '000061', '000071', '000072', '000073', '000074', '000076', '000079', '000080', '000083', '000089', '000095', '000098', '000105', '000108', '000110', '000113', '000114', '000119', '000122', '000125', '000128', '000132', '000134', '000142', '000145', '000146', '000150', '000152', '000153', '000154', '000165', '000167', '000177', '000189', '000190', '000192', '000200', '000201', '000206', '000211', '000215', '000225', '000226', '000234', '000243', '000251', '000254', '000259', '000264', '000267', '000268', '000274', '000287', '000290', '000295', '000308', '000310', '000317', '000325', '000332', '000336', '000342', '000351', '000360', '000364', '000372', '000376', '000380', '000383', '000384', '000395', '000400']\n"
     ]
    }
   ],
   "source": [
    "print(file_list)"
   ]
  },
  {
   "cell_type": "code",
   "execution_count": 11,
   "id": "c7fdd109",
   "metadata": {},
   "outputs": [],
   "source": [
    "import PIL\n",
    "from PIL import Image\n",
    "\n",
    "def resize_image(input_path, output_path, new_width, new_height):\n",
    "    # Open the image file\n",
    "    with Image.open(input_path) as img:\n",
    "        # Resize the image\n",
    "        resized_img = img.resize((new_width, new_height), PIL.Image.Resampling.LANCZOS)\n",
    "        \n",
    "        # Save the resized image to the output path\n",
    "        resized_img.save(output_path)\n",
    "\n",
    "# Example usage\n",
    "#resize_image('path_to_your_image.jpg', 'resized_image.jpg', 300, 400) # Replace 300, 400 with your desired CxD dimensions"
   ]
  },
  {
   "cell_type": "code",
   "execution_count": 12,
   "id": "1c4cea69",
   "metadata": {},
   "outputs": [],
   "source": [
    "resize_folder_path = \"data/KITTI_Syn_Carla_Resize\"  # Replace with the actual folder path\n",
    "\n",
    "for filename in file_list:\n",
    "    source_path = os.path.join(folder_path, filename+\".jpg\")\n",
    "    dest_path = os.path.join(resize_folder_path, filename+\".png\")\n",
    "    resize_image(source_path, dest_path, 1242, 375)    \n",
    "        "
   ]
  },
  {
   "cell_type": "code",
   "execution_count": 1,
   "id": "8d5d1f2f",
   "metadata": {},
   "outputs": [
    {
     "name": "stdout",
     "output_type": "stream",
     "text": [
      "Conversion complete!\n"
     ]
    }
   ],
   "source": [
    "from PIL import Image\n",
    "import os\n",
    "\n",
    "# Define the path to the directory containing the PNG images\n",
    "directory = \"data/data_syn_DALLE3/Kitti/raw/training/image_2\"\n",
    "\n",
    "# Iterate over each image in the directory\n",
    "for filename in os.listdir(directory):\n",
    "    if filename.endswith(\".png\"):  # Check if the file is a PNG\n",
    "        file_path = os.path.join(directory, filename)\n",
    "        \n",
    "        # Open the image\n",
    "        with Image.open(file_path) as img:\n",
    "            # Convert the image from RGBA to RGB\n",
    "            rgb_img = img.convert('RGB')\n",
    "            \n",
    "            # Define the new filename, typically saving as JPEG or updating the PNG\n",
    "            new_filename = os.path.splitext(file_path)[0] + '.png'\n",
    "            \n",
    "            # Save the converted image\n",
    "            rgb_img.save(new_filename, \"PNG\")\n",
    "\n",
    "print(\"Conversion complete!\")\n"
   ]
  },
  {
   "cell_type": "code",
   "execution_count": null,
   "id": "62a51016",
   "metadata": {},
   "outputs": [],
   "source": []
  }
 ],
 "metadata": {
  "kernelspec": {
   "display_name": "Python 3 (ipykernel)",
   "language": "python",
   "name": "python3"
  },
  "language_info": {
   "codemirror_mode": {
    "name": "ipython",
    "version": 3
   },
   "file_extension": ".py",
   "mimetype": "text/x-python",
   "name": "python",
   "nbconvert_exporter": "python",
   "pygments_lexer": "ipython3",
   "version": "3.11.5"
  }
 },
 "nbformat": 4,
 "nbformat_minor": 5
}

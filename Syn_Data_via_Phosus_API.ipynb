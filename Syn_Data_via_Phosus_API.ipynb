{
 "cells": [
  {
   "cell_type": "markdown",
   "id": "6d449b6c",
   "metadata": {},
   "source": [
    "### API for performing style transfer (not functioning) \n",
    "\n",
    "A couple of bugs exist in their documentation\n",
    "https://phosus.com/docs/image-style-transfer"
   ]
  },
  {
   "cell_type": "code",
   "execution_count": null,
   "id": "8104791a",
   "metadata": {},
   "outputs": [],
   "source": [
    "import requests\n",
    "import base64\n",
    "from jwt import encode\n",
    "from datetime import datetime\n",
    "from datetime import timedelta"
   ]
  },
  {
   "cell_type": "code",
   "execution_count": null,
   "id": "5654efa3",
   "metadata": {},
   "outputs": [],
   "source": [
    "# replace with your API key here\n",
    "api_key = '130c2d1321b0db82f5447bbcabdc28f1'\n",
    "# replace with your key ID here\n",
    "account_key_id = 543\n",
    "\n",
    "# JWT payload\n",
    "payload = {'account_key_id': account_key_id, 'exp': datetime.utcnow() + timedelta(days=1), 'iat': datetime.utcnow()\n",
    "}\n",
    "# sign the payload with the API key\n",
    "jwt_token = encode(payload, key=api_key, algorithm='HS256')"
   ]
  },
  {
   "cell_type": "code",
   "execution_count": null,
   "id": "b98e59d1",
   "metadata": {},
   "outputs": [],
   "source": [
    "print(jwt_token)"
   ]
  },
  {
   "cell_type": "code",
   "execution_count": null,
   "id": "6f1c0db8",
   "metadata": {},
   "outputs": [],
   "source": [
    "content_file_path = \"data/KITTI_Real/000008.png\" \n",
    "style_file_path = \"data/Carla_Style.jpg\""
   ]
  },
  {
   "cell_type": "code",
   "execution_count": null,
   "id": "1a84bfa7",
   "metadata": {},
   "outputs": [],
   "source": [
    "with open(content_file_path, \"rb\") as cf:\n",
    "    content_file_b64 = base64.b64encode(cf.read())"
   ]
  },
  {
   "cell_type": "code",
   "execution_count": null,
   "id": "aa3f68e9",
   "metadata": {},
   "outputs": [],
   "source": [
    "with open(style_file_path, \"rb\") as sf:\n",
    "    style_file_b64 = base64.b64encode(sf.read())"
   ]
  },
  {
   "cell_type": "code",
   "execution_count": null,
   "id": "8dd39f2c",
   "metadata": {},
   "outputs": [],
   "source": [
    "payload = {\n",
    "    'content_image': str(content_file_b64),\n",
    "    'style_image': str(style_file_b64)\n",
    "    }"
   ]
  },
  {
   "cell_type": "code",
   "execution_count": null,
   "id": "9cde714e",
   "metadata": {},
   "outputs": [],
   "source": [
    "r = requests.post('https://api.phosus.com/styletransfer/v1', \n",
    "                  headers={'authorizationToken': f'Bearer {jwt_token}', 'Content-Type': 'application/json'}, \n",
    "                  json=payload\n",
    ")\n"
   ]
  },
  {
   "cell_type": "code",
   "execution_count": null,
   "id": "a150b2a3",
   "metadata": {},
   "outputs": [],
   "source": [
    "r = requests.post('https://api.phosus.com/styletransfer/v1', \n",
    "                  headers={'authorizationToken': str(jwt_token), 'Content-Type': 'application/json'}, \n",
    "                  json=payload\n",
    ")\n"
   ]
  },
  {
   "cell_type": "code",
   "execution_count": null,
   "id": "6a84cb7d",
   "metadata": {},
   "outputs": [],
   "source": [
    "print(r)"
   ]
  },
  {
   "cell_type": "code",
   "execution_count": null,
   "id": "1e100a4a",
   "metadata": {},
   "outputs": [],
   "source": [
    "print(r.json())"
   ]
  },
  {
   "cell_type": "code",
   "execution_count": null,
   "id": "31cc0814",
   "metadata": {},
   "outputs": [],
   "source": []
  }
 ],
 "metadata": {
  "kernelspec": {
   "display_name": "Python 3 (ipykernel)",
   "language": "python",
   "name": "python3"
  },
  "language_info": {
   "codemirror_mode": {
    "name": "ipython",
    "version": 3
   },
   "file_extension": ".py",
   "mimetype": "text/x-python",
   "name": "python",
   "nbconvert_exporter": "python",
   "pygments_lexer": "ipython3",
   "version": "3.11.5"
  }
 },
 "nbformat": 4,
 "nbformat_minor": 5
}
